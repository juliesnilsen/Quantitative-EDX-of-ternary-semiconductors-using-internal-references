{
 "cells": [
  {
   "cell_type": "markdown",
   "metadata": {},
   "source": [
    "This tutorial demonstrates how the composition of a ternary heterostructured semiconductor can be found using an internal reference area for two of the elements within the scanned area (when available). \n",
    "\n",
    "The example data was acquired from a 111 cross-section of a GaAs/AlGaAs core-shell nanowire, where the Al content in the shell is non-uniform. The area of interest that is scanned covers two of the six nanowire shells as well as part of the nanowire core."
   ]
  },
  {
   "cell_type": "markdown",
   "metadata": {},
   "source": [
    "Import necessary libraries:"
   ]
  },
  {
   "cell_type": "code",
   "execution_count": null,
   "metadata": {},
   "outputs": [],
   "source": [
    "%matplotlib qt\n",
    "import hyperspy.api as hs\n",
    "import numpy as np\n",
    "import matplotlib.pyplot as plt\n",
    "from hyperspy import utils"
   ]
  },
  {
   "cell_type": "markdown",
   "metadata": {},
   "source": [
    "Load and plot dataset:"
   ]
  },
  {
   "cell_type": "code",
   "execution_count": null,
   "metadata": {},
   "outputs": [],
   "source": [
    "dataset = 'NW_cross_section_EDS.hdf5'\n",
    "s = hs.load(dataset)\n",
    "s.plot()"
   ]
  },
  {
   "cell_type": "markdown",
   "metadata": {},
   "source": [
    "Sum one axis to create linescan and increase X-ray counts:\n",
    "\n",
    "Note: It is also possible to perform a denoising of the data, e.g. by principal component analysis, but is not included in this tutorial. For more detail on default EDX processing in  HyperSpy see demo’s.\n",
    "\n",
    "https://github.com/hyperspy/hyperspy-demos/blob/master/electron_microscopy/EDS/SEM_EDS_4D_visualisation.ipynb"
   ]
  },
  {
   "cell_type": "code",
   "execution_count": null,
   "metadata": {},
   "outputs": [],
   "source": [
    "width = s.axes_manager[1].size\n",
    "s = s.sum(axis=1)\n",
    "s.plot()"
   ]
  },
  {
   "cell_type": "markdown",
   "metadata": {},
   "source": [
    "Define necessary parameters:"
   ]
  },
  {
   "cell_type": "code",
   "execution_count": null,
   "metadata": {},
   "outputs": [],
   "source": [
    "constant_element = 'As' # The element for which the composition is constant over the scanned area\n",
    "unknown_zeta = 'Al' # The element for which there is no internal reference\n",
    "probe_current = 0.692 # nA (Can be arbitrary)\n",
    "acquisition_time = 0.1 # s (Can be arbitrary)\n",
    "elements = ['Al','As','Ga'] # The elements of the area of interest\n",
    "lines = ['Al_Ka','As_Ka','Ga_Ka'] # The X-ray lines used for quantification\n",
    "\n",
    "comp_ref = hs.material.atomic_to_weight([0.5, 0.5], (\"As\", \"Ga\"))/100 # Composition of ref. area in wt.%\n",
    "density_ref = hs.material.density_of_mixture(comp_ref, (\"As\",\"Ga\")) * 1e3 # Density of ref. in kg/m^2\n",
    "lines_ref = [\"As_Ka\",\"Ga_Ka\"] # The X-ray lines used in the reference area\n",
    "thickness = 45 # nm (Can be arbitrary)"
   ]
  },
  {
   "cell_type": "markdown",
   "metadata": {},
   "source": [
    "Define the reference area, sum the counts, set the background windows and find the total counts:"
   ]
  },
  {
   "cell_type": "code",
   "execution_count": null,
   "metadata": {},
   "outputs": [],
   "source": [
    "ref_area = s.inav[123:302] # The pixels in the data set to be used as a reference area.\n",
    "length = ref_area.axes_manager[0].size\n",
    "ref_area = ref_area.sum()\n",
    "ref_area.add_lines(lines_ref)\n",
    "bw_As_ref = ref_area.estimate_background_windows(line_width=[3,3], windows_width=1, xray_lines=['As_Ka'])\n",
    "bw_Ga_ref = ref_area.estimate_background_windows(line_width=[3,3], windows_width=1, xray_lines=['Ga_Ka'])\n",
    "BW_ref = np.concatenate((bw_As_ref, bw_Ga_ref)) # must be in alphabetical order\n",
    "ref_area.plot(background_windows=BW_ref)\n",
    "ref_area_ints = ref_area.get_lines_intensity(lines = lines_ref, \n",
    "                                             background_windows=BW_ref, \n",
    "                                             integrations_windows=1.2)"
   ]
  },
  {
   "cell_type": "markdown",
   "metadata": {},
   "source": [
    "Set background windows and find the X-ray counts in the area of interest:"
   ]
  },
  {
   "cell_type": "code",
   "execution_count": null,
   "metadata": {},
   "outputs": [],
   "source": [
    "s.add_lines(lines)\n",
    "bw_1 = s.estimate_background_windows(line_width=[8,2], windows_width=1, xray_lines=['Al_Ka'])\n",
    "bw_2 = s.estimate_background_windows(line_width=[3,3], windows_width=1, xray_lines=['As_Ka'])\n",
    "bw_3 = s.estimate_background_windows(line_width=[3,3], windows_width=1, xray_lines=['Ga_Ka'])\n",
    "BW = np.concatenate((bw_1, bw_2, bw_3)) # must be in alphabetical order\n",
    "s.plot(background_windows=BW)\n",
    "s_ints = s.get_lines_intensity(background_windows=BW, integrations_windows=1.2)"
   ]
  },
  {
   "cell_type": "markdown",
   "metadata": {},
   "source": [
    "Define functions needed:"
   ]
  },
  {
   "cell_type": "code",
   "execution_count": null,
   "metadata": {},
   "outputs": [],
   "source": [
    "def determine_zeta_factor(intensities, composition, dose, mass_thickness):\n",
    "    \"\"\"\n",
    "    Determine zeta-factors from the reference area.\n",
    "\n",
    "    Parameters\n",
    "    ----------\n",
    "    intensities: numpy.array\n",
    "        The intensities for each X-ray line in the reference. The first axis should be the element axis.\n",
    "    composition: list of float\n",
    "        Composition of the elements given in wt.% in the same order as intensities.\n",
    "    dose: float\n",
    "        Total electron dose given by i*t*N, where i is the beam_current, t is the acquisition time,\n",
    "        and N the number of electrons per unit electric charge (1/e).\n",
    "\n",
    "    Returns:\n",
    "    -------\n",
    "    The zeta factors of the reference area.\n",
    "    \"\"\"\n",
    "        \n",
    "    zfactors = np.zeros_like(intensities, dtype='float')\n",
    "    \n",
    "    for i, (intensity, comp) in enumerate(zip(intensities, composition)):\n",
    "        zfactors[i] = (dose * mass_thickness * comp) / intensity\n",
    "\n",
    "    return zfactors\n",
    "\n",
    "def calculate_unknown_zeta(elements, zfactors, intensities, const_el):\n",
    "    '''\n",
    "    Calculates the unknown zeta factor in a system where the other zeta factors are known, and one of the\n",
    "    elements is known to be constant with respect to the concentration of the element with unknown zeta \n",
    "    factor. A good example is ternary heterostructured semiconductors where one of the elements in known \n",
    "    to be 50 at.% independently of the other two elements.\n",
    "    \n",
    "    Parameters:\n",
    "    ------------\n",
    "    elements: list\n",
    "        The elements present in the sample, in the same order as intensities (alphabetical).\n",
    "    zfactors: list of ints\n",
    "        The zeta factors of the system. The unknown zeta factor is set to 0, same order as intensities.\n",
    "    intensities: numpy.array\n",
    "        The intensities for each X-ray line. The first axis should be the element axis.\n",
    "    const_el: str\n",
    "        The element with the constant concentration.\n",
    "    \n",
    "    Returns:\n",
    "    --------\n",
    "    The unknown zeta factor of the element that gives the most constant concentration of the element that \n",
    "    is known to have a constant concentration.\n",
    "    '''\n",
    "\n",
    "    unknown_zeta = zfactors.index(0)\n",
    "    constant_element = elements.index(const_el)\n",
    "    flatness = 0\n",
    "    \n",
    "    while(True):\n",
    "        \n",
    "        zI = []\n",
    "        for i in range(len(zfactors)):\n",
    "            zI.append(zfactors[i]*intensities[i].data)\n",
    "        \n",
    "        comp_wt = []\n",
    "        for i in range(len(zfactors)):\n",
    "            comp_wt.append(zI[i]/sum(zI))\n",
    "\n",
    "        comp_at = hs.material.weight_to_atomic([comp_wt[0], comp_wt[1], comp_wt[2]], (elements))/100\n",
    "    \n",
    "        if (np.max(comp_at[constant_element])-np.min(comp_at[constant_element])) < flatness:\n",
    "            print(\"The zeta factor for \" + elements[unknown_zeta] + \" was determined to be \" + \n",
    "                  str(zfactors[unknown_zeta]) + \" with a flatness criterion of \" \n",
    "                  + str(round(flatness*100,2)) + \" at.%.\")\n",
    "            break\n",
    "        elif zfactors[unknown_zeta] > (10*(zfactors[constant_element])):\n",
    "            flatness += 0.001\n",
    "            zfactors[unknown_zeta] = 0\n",
    "    \n",
    "        zfactors[unknown_zeta] += 1\n",
    "    \n",
    "    return zfactors[unknown_zeta], flatness\n",
    "\n",
    "def find_zeta_from_reference(r, intensities_ref, acquisition_time, probe_current, thickness, density_ref, \n",
    "                             composition_ref):\n",
    "    '''\n",
    "    Finds the zeta factors of the reference area.\n",
    "    Parameters:\n",
    "    -----------\n",
    "    r: The EDX signal of the reference area.\n",
    "    intensities_ref: numpy.array\n",
    "        The intensities for each X-ray line in the reference. The first axis should be the element axis.\n",
    "    acquisition time: float\n",
    "        The dwell time of each pixel (can be arbitrary)\n",
    "    probe_current: float\n",
    "        The probe current during the aqcuisition (can be arbitrary)\n",
    "    thickness: float\n",
    "        The specimen thickness of the refrence area in nm (can be arbitrary)\n",
    "    density_ref: float\n",
    "        The density of the reference area.\n",
    "    composition_ref: list of float\n",
    "        Composition of the elements in the reference given in wt.% in the same order as intensities.\n",
    "        \n",
    "    Returns:\n",
    "    ---------\n",
    "    The zeta factors of the reference area.\n",
    "    '''\n",
    "    \n",
    "    r.set_microscope_parameters(live_time = acquisition_time*width*length, beam_current=probe_current)\n",
    "    intensities_ref = utils.stack(intensities_ref)\n",
    "    zeta_factors = determine_zeta_factor(intensities_ref, \n",
    "                                         composition_ref, \n",
    "                                         r._get_dose(\"zeta\"), \n",
    "                                         thickness*1e-9*density_ref)\n",
    "    \n",
    "    return zeta_factors\n",
    "\n",
    "def find_unknown_zeta(intensities, elements, constant_el, known_zeta, lines_ref):\n",
    "    '''\n",
    "    Calculates the uknown zeta factor based on the zeta factors found in the reference area and that one\n",
    "    element has constant composition.\n",
    "    Paramenters:\n",
    "    --------------\n",
    "    intensities: numpy.array\n",
    "        The intensities of each X-ray line in the aera of interest. The first axis should be the element axis.\n",
    "    elements: list of str\n",
    "        The elements to be quantified in the area of interest, in the same order as intensities.\n",
    "    known_zeta: list of float\n",
    "        The zeta factors found from the reference area.\n",
    "    lines_ref: List of str\n",
    "        The X-ray lines for the zeta factors of the reference area.\n",
    "     \n",
    "    Returns:\n",
    "    ---------\n",
    "    The zeta factors for the three elements.\n",
    "    '''\n",
    "    \n",
    "    zfactors = [0., 0., 0.]\n",
    "    zfactors[lines.index(lines_ref[0])] = known_zeta[0]\n",
    "    zfactors[lines.index(lines_ref[1])] = known_zeta[1]\n",
    "    zeta_unknown = calculate_unknown_zeta(elements, zfactors, intensities, const_el=constant_element)\n",
    "    \n",
    "    return zfactors\n",
    "\n",
    "def composition_thickness(s, acquisition_time, probe_current, intensities, zeta_factors):\n",
    "    '''\n",
    "    Calculates the composition and thickness of the area of interest.\n",
    "    Parameters:\n",
    "    ------------\n",
    "    s: The EDX data to be quantified\n",
    "    aquisition_time: float\n",
    "        The dwell time of each pixel (can be arbitrary, but same as when calc. zeta factors)\n",
    "    probe_current: float\n",
    "        The probe current during the aqcuisition (can be arbitrary, but same as when calc. zeta factors)\n",
    "    zeta_factors: list of float\n",
    "        The zeta factors for the X-ray lines of the elements to be quantified.\n",
    "        \n",
    "    Returns:\n",
    "    -----------\n",
    "    The composition and thickness of the area of interest.\n",
    "    '''\n",
    "    \n",
    "    s.set_microscope_parameters(live_time=acquisition_time*width, beam_current=probe_current)\n",
    "    composition, pt = s.quantification(method='zeta', \n",
    "                                       intensities=intensities, \n",
    "                                       factors=zeta_factors, \n",
    "                                       composition_units='atomic')\n",
    "    p = hs.material.density_of_mixture(hs.material.atomic_to_weight(composition)) * 1e3\n",
    "    thickness = pt*1e9/p\n",
    "    \n",
    "    return composition, thickness"
   ]
  },
  {
   "cell_type": "markdown",
   "metadata": {},
   "source": [
    "Find the zeta factors of the reference area:"
   ]
  },
  {
   "cell_type": "code",
   "execution_count": null,
   "metadata": {},
   "outputs": [],
   "source": [
    "zeta_from_reference = find_zeta_from_reference(ref_area,\n",
    "                                               ref_area_ints,\n",
    "                                               acquisition_time,\n",
    "                                               probe_current,\n",
    "                                               thickness,\n",
    "                                               density_ref,\n",
    "                                               comp_ref)"
   ]
  },
  {
   "cell_type": "markdown",
   "metadata": {},
   "source": [
    "Calculate the unknown zeta factor:"
   ]
  },
  {
   "cell_type": "code",
   "execution_count": null,
   "metadata": {},
   "outputs": [],
   "source": [
    "known_zeta = []\n",
    "for i in range(len(zeta_from_reference)):\n",
    "     known_zeta.append(zeta_from_reference[i][0])\n",
    "        \n",
    "zeta_factors = find_unknown_zeta(s_ints,\n",
    "                                 elements,\n",
    "                                 constant_element,\n",
    "                                 known_zeta,\n",
    "                                 lines_ref)"
   ]
  },
  {
   "cell_type": "markdown",
   "metadata": {},
   "source": [
    "Calculate the composition and thickness based on the found zeta-factors:"
   ]
  },
  {
   "cell_type": "code",
   "execution_count": null,
   "metadata": {},
   "outputs": [],
   "source": [
    "composition, thickness = composition_thickness(s,\n",
    "                                             acquisition_time,\n",
    "                                             probe_current,\n",
    "                                             s_ints,\n",
    "                                             zeta_factors)"
   ]
  },
  {
   "cell_type": "markdown",
   "metadata": {},
   "source": [
    "Plot the composition profile:"
   ]
  },
  {
   "cell_type": "code",
   "execution_count": null,
   "metadata": {},
   "outputs": [],
   "source": [
    "f = plt.figure(tight_layout=True, figsize=(8,4))\n",
    "\n",
    "x = composition[0].axes_manager[0].axis\n",
    "\n",
    "plt.plot(x, composition[0].data, 'b', label='Al')\n",
    "plt.plot(x, composition[1].data, 'r', label='As')\n",
    "plt.plot(x, composition[2].data, 'g', label='Ga')\n",
    "\n",
    "plt.xlabel('nm')\n",
    "plt.ylabel('at.%')\n",
    "plt.legend(loc='lower right')\n",
    "plt.xlim([0,x[-1]])\n",
    "plt.ylim([0, 55])\n",
    "\n",
    "plt.show()"
   ]
  },
  {
   "cell_type": "markdown",
   "metadata": {},
   "source": [
    "Plot the thickness profile:"
   ]
  },
  {
   "cell_type": "code",
   "execution_count": null,
   "metadata": {},
   "outputs": [],
   "source": [
    "plt.figure(tight_layout=True, figsize=(8,4))\n",
    "title = 'Thickness' \n",
    "x = composition[0].axes_manager[0].axis\n",
    "plt.plot(x, thickness.data, 'k')\n",
    "plt.title(title)\n",
    "plt.xlabel('nm')\n",
    "plt.ylabel('Thickness [nm]')\n",
    "plt.xlim([0, x[-1]])"
   ]
  },
  {
   "cell_type": "code",
   "execution_count": null,
   "metadata": {},
   "outputs": [],
   "source": []
  }
 ],
 "metadata": {
  "kernelspec": {
   "display_name": "Python 3",
   "language": "python",
   "name": "python3"
  },
  "language_info": {
   "codemirror_mode": {
    "name": "ipython",
    "version": 3
   },
   "file_extension": ".py",
   "mimetype": "text/x-python",
   "name": "python",
   "nbconvert_exporter": "python",
   "pygments_lexer": "ipython3",
   "version": "3.7.1"
  }
 },
 "nbformat": 4,
 "nbformat_minor": 2
}
